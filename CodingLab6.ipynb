{
 "cells": [
  {
   "cell_type": "markdown",
   "metadata": {},
   "source": [
    "_Neural Data Science_\n",
    "\n",
    "Lecturer: Dr. Jan Lause, Prof. Dr. Philipp Berens\n",
    "\n",
    "Tutors: Jonas Beck, Fabio Seel, Julius Würzler\n",
    "\n",
    "Summer term 2025\n",
    "\n",
    "Student names: <span style='background: yellow'>*Florian Burkardt & Franz Ruppert* </span>\n",
    "\n",
    "LLM Disclaimer: <span style='background: yellow'>*Did you use an LLM to solve this exercise? If yes, which one and where did you use it? ChatGPT for Coding Assistance, Code Generation for Plots, Explanation of Concepts* </span>"
   ]
  },
  {
   "cell_type": "markdown",
   "metadata": {},
   "source": [
    "# Coding Lab 6\n",
    "\n",
    "In this exercise we are going to fit a latent variable model (Poisson GPFA) to both toy data and real data from monkey primary visual cortex. For details, see [Ecker et al. 2014](https://www.cell.com/neuron/pdf/S0896-6273(14)00104-4.pdf)."
   ]
  },
  {
   "cell_type": "markdown",
   "metadata": {},
   "source": [
    "## Preliminaries\n",
    "\n",
    "### 1. Code \n",
    "\n",
    "The toolbox we are going to use contains an implementation of the EM algorithm to fit the poisson-gpfa. \n",
    "\n",
    "Assuming you `git clone https://github.com/berenslab/poisson-gpfa` to the parent directory and have the following directory structure:\n",
    "\n",
    "\n",
    "```\n",
    "├── data/\n",
    "│   └── nds_cl_6_data.mat\n",
    "├── poisson-gpfa/\n",
    "├── notebooks\n",
    "│   └── CodingLab6.ipynb\n",
    "├── matplotlib_style.txt\n",
    "├── requirements.txt\n",
    "```\n",
    "\n",
    "then you can import the related functions via:\n",
    "\n",
    "```\n",
    "import sys\n",
    "sys.path.append('../poisson-gpfa/')\n",
    "sys.path.append('../poisson-gpfa/funs')\n",
    "\n",
    "import funs.util as util\n",
    "import funs.engine as engine\n",
    "```\n",
    "\n",
    "Change the paths if you have a different directory structure. For the details of the algorithm, please refer to the thesis `hooram_thesis.pdf` from ILIAS.\n",
    "\n",
    "### 2. Data\n",
    "\n",
    "Download the data file ```nds_cl_6_data.mat``` from ILIAS and save it in a ```data/``` folder."
   ]
  },
  {
   "cell_type": "code",
   "execution_count": 2,
   "metadata": {},
   "outputs": [
    {
     "name": "stdout",
     "output_type": "stream",
     "text": [
      "The jupyter_black extension is already loaded. To reload it, use:\n",
      "  %reload_ext jupyter_black\n",
      "The watermark extension is already loaded. To reload it, use:\n",
      "  %reload_ext watermark\n",
      "Last updated: 2025-05-30 20:13:53Mitteleuropäische Sommerzeit\n",
      "\n",
      "Python implementation: CPython\n",
      "Python version       : 3.10.0\n",
      "IPython version      : 8.35.0\n",
      "\n",
      "sklearn: 1.6.1\n",
      "\n",
      "seaborn   : 0.13.2\n",
      "sys       : 3.10.0 | packaged by conda-forge | (default, Nov 20 2021, 02:18:13) [MSC v.1916 64 bit (AMD64)]\n",
      "numpy     : 2.2.4\n",
      "matplotlib: 3.10.1\n",
      "scipy     : 1.15.2\n",
      "\n",
      "Watermark: 2.5.0\n",
      "\n"
     ]
    }
   ],
   "source": [
    "import numpy as np\n",
    "import scipy.io as sio\n",
    "import matplotlib.pyplot as plt\n",
    "\n",
    "# style\n",
    "import seaborn as sns\n",
    "\n",
    "# poisson-gpfa\n",
    "import sys\n",
    "\n",
    "sys.path.append(\"../poisson-gpfa/\")\n",
    "sys.path.append(\"../poisson-gpfa/funs\")\n",
    "\n",
    "import funs.util as util\n",
    "import funs.engine as engine\n",
    "\n",
    "%matplotlib inline\n",
    "\n",
    "%load_ext jupyter_black\n",
    "\n",
    "%load_ext watermark\n",
    "%watermark --time --date --timezone --updated --python --iversions --watermark -p sklearn"
   ]
  },
  {
   "cell_type": "code",
   "execution_count": 3,
   "metadata": {},
   "outputs": [],
   "source": [
    "plt.style.use(\"../matplotlib_style.txt\")"
   ]
  },
  {
   "cell_type": "markdown",
   "metadata": {},
   "source": [
    "## Task 1. Generate some toy data to test the poisson-GPFA code\n",
    "\n",
    "We start by verifying our code on toy data. The cell below contains code to generate data for 30 neurons, 100 trials (1000 ms each) and 50ms bin size. The neurons' firing rate $\\lambda_k$ is assumed to be a constant $d_k$ modulated by a one-dimensional latent state $x$, which is drawn from a Gaussian process:\n",
    "\n",
    "$\\lambda_k = \\exp(c_kx + d_k)$\n",
    "\n",
    "Each neuron's weight $c_k$ is drawn randomly from a normal distribution and spike counts are sampled form a Poisson distribution with rate $\\lambda_k$.\n",
    "\n",
    "Your task is to fit a Poisson GPFA model with one latent variable to this data (see `engine.PPGPFAfit`).\n",
    "\n",
    "Hint: You can use `util.dataset?`, `engine.PPGPFAfit?` or `util.initializeParams?` to find out more about the provided package.\n",
    "\n",
    "*Grading: 3 pts*"
   ]
  },
  {
   "cell_type": "code",
   "execution_count": 4,
   "metadata": {
    "scrolled": true
   },
   "outputs": [
    {
     "name": "stdout",
     "output_type": "stream",
     "text": [
      "+------------- Simulated Dataset Options -------------+\n",
      "\n",
      "\n",
      "\n",
      "\n",
      "\n",
      "+-----------------------------------------------------+\n",
      "\u001b[KSampling trial 100 ...\n",
      "Average firing rate per neuron in this dataset: 3.464 Hz.\n"
     ]
    }
   ],
   "source": [
    "# ---------------------------------\n",
    "# simulate a training set (0.5 pts)\n",
    "# ---------------------------------\n",
    "\n",
    "# Initialize random number generator\n",
    "\n",
    "seed = 42\n",
    "\n",
    "# Specify dataset & fitting parameters\n",
    "n_neurons = 30\n",
    "dur_trials = 1000\n",
    "n_trials = 100\n",
    "binsize = 50\n",
    "n_latent = 1\n",
    "# Sample from the model (make a toy dataset)\n",
    "training_set = util.dataset(\n",
    "    trialDur=dur_trials,\n",
    "    binSize=binsize,\n",
    "    numTrials=n_trials,\n",
    "    xdim=n_latent,\n",
    "    ydim=n_neurons,\n",
    "    seed=seed,\n",
    ")"
   ]
  },
  {
   "cell_type": "markdown",
   "metadata": {},
   "source": [
    "### Fit the model"
   ]
  },
  {
   "cell_type": "code",
   "execution_count": 5,
   "metadata": {},
   "outputs": [
    {
     "data": {
      "text/plain": [
       "\u001b[1;31mSignature:\u001b[0m \u001b[0mutil\u001b[0m\u001b[1;33m.\u001b[0m\u001b[0minitializeParams\u001b[0m\u001b[1;33m(\u001b[0m\u001b[0mxdim\u001b[0m\u001b[1;33m,\u001b[0m \u001b[0mydim\u001b[0m\u001b[1;33m,\u001b[0m \u001b[0mexperiment\u001b[0m\u001b[1;33m=\u001b[0m\u001b[1;32mNone\u001b[0m\u001b[1;33m)\u001b[0m\u001b[1;33m\u001b[0m\u001b[1;33m\u001b[0m\u001b[0m\n",
       "\u001b[1;31mDocstring:\u001b[0m\n",
       "Initializes Poisson-GPFA model parameters.\n",
       "\n",
       "Parameters:\n",
       "===========\n",
       "  * xdim       : int, latent dimensionality to fit\n",
       "  * ydim       : int, number of neurons in the dataset\n",
       "  * experiment : (optional) If a third optional argument of util.dataset object is given, \n",
       "                 the fucntion returns a dictionary of parameters obtained by performing Poisson-\n",
       "                 PCA Leave this argument empty to initialize randomly.\n",
       "Returns:\n",
       "========\n",
       "     A dictionary of model parameters.\n",
       "\u001b[1;31mFile:\u001b[0m      c:\\users\\user\\documents\\master\\4_semester\\neural_data_processing\\nds_env\\poisson-gpfa\\funs\\util.py\n",
       "\u001b[1;31mType:\u001b[0m      function"
      ]
     },
     "metadata": {},
     "output_type": "display_data"
    }
   ],
   "source": [
    "?util.initializeParams"
   ]
  },
  {
   "cell_type": "code",
   "execution_count": 6,
   "metadata": {},
   "outputs": [
    {
     "data": {
      "text/plain": [
       "\u001b[1;31mInit signature:\u001b[0m\n",
       "\u001b[0mengine\u001b[0m\u001b[1;33m.\u001b[0m\u001b[0mPPGPFAfit\u001b[0m\u001b[1;33m(\u001b[0m\u001b[1;33m\n",
       "\u001b[0m    \u001b[0mexperiment\u001b[0m\u001b[1;33m,\u001b[0m\u001b[1;33m\n",
       "\u001b[0m    \u001b[0minitParams\u001b[0m\u001b[1;33m=\u001b[0m\u001b[1;32mNone\u001b[0m\u001b[1;33m,\u001b[0m\u001b[1;33m\n",
       "\u001b[0m    \u001b[0mxdim\u001b[0m\u001b[1;33m=\u001b[0m\u001b[1;36m2\u001b[0m\u001b[1;33m,\u001b[0m\u001b[1;33m\n",
       "\u001b[0m    \u001b[0minferenceMethod\u001b[0m\u001b[1;33m=\u001b[0m\u001b[1;34m'laplace'\u001b[0m\u001b[1;33m,\u001b[0m\u001b[1;33m\n",
       "\u001b[0m    \u001b[0mmaxEMiter\u001b[0m\u001b[1;33m=\u001b[0m\u001b[1;36m50\u001b[0m\u001b[1;33m,\u001b[0m\u001b[1;33m\n",
       "\u001b[0m    \u001b[0moptimLogLamb\u001b[0m\u001b[1;33m=\u001b[0m\u001b[1;32mFalse\u001b[0m\u001b[1;33m,\u001b[0m\u001b[1;33m\n",
       "\u001b[0m    \u001b[0mCdOptimMethod\u001b[0m\u001b[1;33m=\u001b[0m\u001b[1;34m'TNC'\u001b[0m\u001b[1;33m,\u001b[0m\u001b[1;33m\n",
       "\u001b[0m    \u001b[0mtauOptimMethod\u001b[0m\u001b[1;33m=\u001b[0m\u001b[1;34m'TNC'\u001b[0m\u001b[1;33m,\u001b[0m\u001b[1;33m\n",
       "\u001b[0m    \u001b[0mverbose\u001b[0m\u001b[1;33m=\u001b[0m\u001b[1;32mFalse\u001b[0m\u001b[1;33m,\u001b[0m\u001b[1;33m\n",
       "\u001b[0m    \u001b[0mEMmode\u001b[0m\u001b[1;33m=\u001b[0m\u001b[1;34m'Online'\u001b[0m\u001b[1;33m,\u001b[0m\u001b[1;33m\n",
       "\u001b[0m    \u001b[0mbatchSize\u001b[0m\u001b[1;33m=\u001b[0m\u001b[1;36m5\u001b[0m\u001b[1;33m,\u001b[0m\u001b[1;33m\n",
       "\u001b[0m    \u001b[0monlineParamUpdateMethod\u001b[0m\u001b[1;33m=\u001b[0m\u001b[1;34m'diag'\u001b[0m\u001b[1;33m,\u001b[0m\u001b[1;33m\n",
       "\u001b[0m    \u001b[0mhessTol\u001b[0m\u001b[1;33m=\u001b[0m\u001b[1;32mNone\u001b[0m\u001b[1;33m,\u001b[0m\u001b[1;33m\n",
       "\u001b[0m    \u001b[0mstepPow\u001b[0m\u001b[1;33m=\u001b[0m\u001b[1;36m0.75\u001b[0m\u001b[1;33m,\u001b[0m\u001b[1;33m\n",
       "\u001b[0m    \u001b[0mupdateCdJointly\u001b[0m\u001b[1;33m=\u001b[0m\u001b[1;32mTrue\u001b[0m\u001b[1;33m,\u001b[0m\u001b[1;33m\n",
       "\u001b[0m    \u001b[0mfullyUpdateTau\u001b[0m\u001b[1;33m=\u001b[0m\u001b[1;32mFalse\u001b[0m\u001b[1;33m,\u001b[0m\u001b[1;33m\n",
       "\u001b[0m    \u001b[0mextractAllTraj\u001b[0m\u001b[1;33m=\u001b[0m\u001b[1;32mFalse\u001b[0m\u001b[1;33m,\u001b[0m\u001b[1;33m\n",
       "\u001b[0m    \u001b[0mextractAllTraj_trueParams\u001b[0m\u001b[1;33m=\u001b[0m\u001b[1;32mFalse\u001b[0m\u001b[1;33m,\u001b[0m\u001b[1;33m\n",
       "\u001b[0m    \u001b[0mgetPredictionErr\u001b[0m\u001b[1;33m=\u001b[0m\u001b[1;32mFalse\u001b[0m\u001b[1;33m,\u001b[0m\u001b[1;33m\n",
       "\u001b[0m    \u001b[0mCdMaxIter\u001b[0m\u001b[1;33m=\u001b[0m\u001b[1;32mNone\u001b[0m\u001b[1;33m,\u001b[0m\u001b[1;33m\n",
       "\u001b[0m    \u001b[0mtauMaxIter\u001b[0m\u001b[1;33m=\u001b[0m\u001b[1;32mNone\u001b[0m\u001b[1;33m,\u001b[0m\u001b[1;33m\n",
       "\u001b[0m\u001b[1;33m)\u001b[0m\u001b[1;33m\u001b[0m\u001b[1;33m\u001b[0m\u001b[0m\n",
       "\u001b[1;31mDocstring:\u001b[0m     \n",
       "Poisson-GPFA model fit given a neural population spike data. \n",
       "\n",
       "Input Attributes:\n",
       "=================\n",
       "  * experiment : (util.dataset object), required\n",
       "    - A dataset object with the following attributes:\n",
       "        experiment.data     - A list of dictionaries in the following format:\n",
       "          experiment.data[trial]['Y'] - numpy array of shape (#time bins, # neurons)\n",
       "        experiment.T        - number of time bins, all trials must have the same length\n",
       "        experiment.trialDur - duration of each trial in ms\n",
       "        experiment.binSize  - size of bin in ms\n",
       "  \n",
       "  * initParams : (dict), required: initial parameter. \n",
       "    - Has the following fields:\n",
       "        initParams['C']   - a numpy array of shape (#neurons, #latent dimension to fit)\n",
       "        initParams['d']   - a numpy array of shape (#neurons)\n",
       "        initParams['tau'] - a numpy array of shape (#latent dimension), in seconds\n",
       "  \n",
       "  * inferenceMethod : (str), optional\n",
       "    - Specifies the posterior Gaussian approximation method used in inference. Defaults to 'laplace'.\n",
       "        inferenceMethod = 'laplace' - uses laplace approximation (mean ~= mode)\n",
       "        inferenceMethod = 'variational' - uses variational inference\n",
       "  \n",
       "  * maxEMiter : (int), optional\n",
       "    - number of maximum EM iteration, defaults to 50.\n",
       "  \n",
       "  * EMmode : (str), optional\n",
       "    - If EMmode = 'Batch', performs batch EM, where inference is performed on all available trials.\n",
       "    - If EMmode = 'Online', performs online EM, where inference is performed only on smaller number of\n",
       "      subsampled trials. User can specify further details of online EM via the init attributes\n",
       "      onlineParamUpdateMethod and priorCovOpts.\n",
       "\n",
       "  * onlineParamUpdateMethod : (str)\n",
       "    - If 'balancingGamma', parameters are updated according to \n",
       "        params_{n+1} = (gamma[n])*params_{n} + (1-gamma[n])*argmax_{params}(M_step_cost_function(params)).\n",
       "    - If 'sequentialAverage', parameters are updated according to \n",
       "        params_{n+1} = (params_{n} + argmax_{params}(M_step_cost_function(params)))/2.\n",
       "    - If 'fullyUpdateAll', parameters are updated according to\n",
       "        params_{n+1} = argmax_{params}(M_step_cost_function(params)).\n",
       "    - If 'gradientDescent', parameters are updated according to\n",
       "        params_{n+1} = params_{n} + stepSize*inv(Hessian_{params_{n}})*Gradient_{params_{n}}.\n",
       "    - If 'fullyUpdateWithPrior', parameters are updated according to\n",
       "        params_{n+1} = argmax_{params}(M_step_cost_function_with_prior(params, prior)).\n",
       "      prior is specified by the attribute priorCovOpts.\n",
       "    -- gamma is a linearly spaced decreasing sequence of length maxEMiter ranging from 0 to 1.\n",
       "  \n",
       "  * forceMaxIter : (bool), optional\n",
       "    - If True, EM iterations continue even after convergence criteria are met. Defaults to False.\n",
       "      Effective only if self.EMmode = 'Batch'.\n",
       "  \n",
       "  * verbose : (bool), optional \n",
       "    - If True, the fitting process is printed in the console.\n",
       "    \n",
       "Resulting Attributes:\n",
       "=====================\n",
       "  * optimParams - (dict), optimal parameter found\n",
       "  \n",
       "  * paramSeq - (list), a list containing the parameters found in each EM iteration\n",
       "  \n",
       "  * infRes - (dict), contains the information about inferred latent trajectories.\n",
       "      infRes['post_mean'][tr] - a numpy array of shape (xdim,T). \n",
       "                                The inferred latent trajectory of trial tr.\n",
       "      infRes['post_cov'][tr] - a numpy array of shape (xdim*T,xdim*T).\n",
       "                               The covariance of the inferred latent trajectory of trial tr.\n",
       "  \n",
       "  * posteriorLikelihood - (list), poterior likelihood at each EM iteration.\n",
       "  \n",
       "  * variationalLowerBound - (list), variational lower bound at each EM iteration. \n",
       "      This attribute only exists if inferenceMethod = 'variational'.\n",
       "\n",
       "Resulting Methods:\n",
       "==================\n",
       "  * plotTrajectory(tr) - plots the inferred trajectory and spike counts of trial tr.\n",
       "  * plotTrajectories() - plots the inferred trajectory of all trials.\n",
       "  * plotParamSeq() - plots some information about how the parameters change through EM iter.\n",
       "  * plotOptimParams() - plots the optimal parameters found.\n",
       "  * plotFitDetails() - plots some information about the fitting process as functions of EM iter.\n",
       "\u001b[1;31mFile:\u001b[0m           c:\\users\\user\\documents\\master\\4_semester\\neural_data_processing\\nds_env\\poisson-gpfa\\funs\\engine.py\n",
       "\u001b[1;31mType:\u001b[0m           type\n",
       "\u001b[1;31mSubclasses:\u001b[0m     "
      ]
     },
     "metadata": {},
     "output_type": "display_data"
    }
   ],
   "source": [
    "?engine.PPGPFAfit"
   ]
  },
  {
   "cell_type": "code",
   "execution_count": 7,
   "metadata": {},
   "outputs": [
    {
     "name": "stdout",
     "output_type": "stream",
     "text": [
      "Initializing parameters with Poisson-PCA..\n",
      "+-------------------- Fit Options --------------------+\n",
      "\n",
      "\n",
      "\n",
      "\n",
      "\n",
      "+-----------------------------------------------------+\n",
      "\u001b[KIteration:  50 of  50, nPLL: = -260.8845\n",
      "This dataset is a simulated dataset.\n",
      "Processing performance against ground truth parameters...\n"
     ]
    }
   ],
   "source": [
    "# -----------------------\n",
    "# fit the model (0.5 pts)\n",
    "# -----------------------\n",
    "\n",
    "# Initialize parameters using Poisson-PCA\n",
    "params = util.initializeParams(xdim=n_latent, ydim=n_neurons, experiment=training_set)\n",
    "# choose sensible parameters and run fit\n",
    "fitToy = engine.PPGPFAfit(\n",
    "    experiment=training_set, initParams=params, xdim=1, EMmode=\"Batch\"\n",
    ")"
   ]
  },
  {
   "cell_type": "code",
   "execution_count": 8,
   "metadata": {},
   "outputs": [],
   "source": [
    "# some useful functions\n",
    "def allTrialsState(fit: engine.PPGPFAfit, p) -> np.ndarray:\n",
    "    \"\"\"Reshape the latent signal and the spike counts\"\"\"\n",
    "    x = np.zeros([p, 0])\n",
    "    for i in range(len(fit.infRes[\"post_mean\"])):\n",
    "        x = np.concatenate((x, fit.infRes[\"post_mean\"][i]), axis=1)\n",
    "    return x\n",
    "\n",
    "\n",
    "def allTrialsX(training_set: util.dataset) -> np.ndarray:\n",
    "    \"\"\"Reshape the ground truth\n",
    "    latent signal and the spike counts\"\"\"\n",
    "    x_gt = np.array([])\n",
    "    for i in range(len(training_set.data)):\n",
    "        x_gt = np.concatenate((x_gt, training_set.data[i][\"X\"][0]), axis=0)\n",
    "    return x_gt"
   ]
  },
  {
   "cell_type": "markdown",
   "metadata": {},
   "source": [
    "### Plot the ground truth vs. inferred model\n",
    "Verify your fit by plotting both ground truth and inferred parameters for:\n",
    "1. weights C\n",
    "2. biases d\n",
    "3. latent state x \n",
    "\n",
    "Note that the sign of fitted latent state and its weights are ambiguous (you can flip both without changing the model). Make sure you correct the sign for the plot if it does not match the ground truth."
   ]
  },
  {
   "cell_type": "code",
   "execution_count": 9,
   "metadata": {},
   "outputs": [],
   "source": [
    "# All trials latent state vector\n",
    "x_est = allTrialsState(fitToy, 1)\n",
    "x_true = allTrialsX(training_set)"
   ]
  },
  {
   "cell_type": "code",
   "execution_count": 18,
   "metadata": {},
   "outputs": [
    {
     "name": "stderr",
     "output_type": "stream",
     "text": [
      "C:\\Users\\User\\AppData\\Local\\Temp\\ipykernel_5008\\2386844955.py:64: UserWarning: The figure layout has changed to tight\n",
      "  fig.tight_layout(rect=[0, 0, 0.85, 1])\n"
     ]
    },
    {
     "data": {
      "image/png": "[encoded data removed]",
      "text/plain": [
       "<Figure size 1200x600 with 3 Axes>"
      ]
     },
     "metadata": {},
     "output_type": "display_data"
    }
   ],
   "source": [
    "# ------------------------------------------------------\n",
    "# Plot ground truth vs. inferred model\n",
    "# Plot the weights `C`, biases `d` and latent states (2 pts)\n",
    "# ------------------------------------------------------\n",
    "\n",
    "# ----- Extract parameters -----\n",
    "\n",
    "x_est = allTrialsState(fitToy, 1)\n",
    "x_true = allTrialsX(training_set)\n",
    "C_true = training_set.params[\"C\"]  # shape: (neurons, xdim)\n",
    "d_true = training_set.params[\"d\"]  # shape: (neurons,)\n",
    "C_est = fitToy.optimParams[\"C\"]\n",
    "d_est = fitToy.optimParams[\"d\"]\n",
    "\n",
    "# ----- flip signs -----\n",
    "\n",
    "C_est_flip = -C_est\n",
    "x_est_flip = -x_est\n",
    "\n",
    "fig, ax = plt.subplot_mosaic([[\"C\", \"d\"], [\"latent\", \"latent\"]], figsize=(12, 6))\n",
    "fig.suptitle(\"Ground Truth vs Inferred Parameters and Latent States\", fontsize=14)\n",
    "\n",
    "\n",
    "\n",
    "ax[\"C\"].scatter(\n",
    "    np.arange(len(C_true)),\n",
    "    C_true[:, 0],\n",
    "    label=\"Ground Truth\",\n",
    "    color=\"black\",\n",
    "    marker=\"x\",\n",
    ")\n",
    "ax[\"C\"].scatter(\n",
    "    np.arange(len(C_est_flip)),\n",
    "    C_est_flip[:, 0],\n",
    "    label=\"Inferred\",\n",
    "    color=\"blue\",\n",
    "    marker=\"o\",\n",
    ")\n",
    "ax[\"C\"].set_title(\"C (weights)\")\n",
    "ax[\"C\"].set_xlabel(\"Neuron\")\n",
    "ax[\"C\"].set_ylabel(\"Weight\")\n",
    "ax[\"C\"].legend(loc=\"upper right\", bbox_to_anchor=(1.15, 1.4), frameon=True)\n",
    "\n",
    "\n",
    "ax[\"d\"].scatter(\n",
    "    np.arange(len(d_true)), d_true, label=\"Ground Truth\", color=\"black\", marker=\"x\"\n",
    ")\n",
    "ax[\"d\"].scatter(np.arange(len(d_est)), d_est, label=\"Inferred\", color=\"red\", marker=\"o\")\n",
    "ax[\"d\"].set_title(\"d (biases)\")\n",
    "ax[\"d\"].set_xlabel(\"Neuron\")\n",
    "ax[\"d\"].set_ylabel(\"Bias\")\n",
    "ax[\"d\"].legend(loc=\"upper right\", bbox_to_anchor=(1.15, 1.4), frameon=True)\n",
    "\n",
    "\n",
    "T = training_set.T\n",
    "subset_trials = 10  # Plot only first 10 trials for clarity\n",
    "trial_boundaries = np.arange(1, subset_trials) * T\n",
    "\n",
    "# Plot true and estimated latent states over subset of trials\n",
    "ax[\"latent\"].plot(\n",
    "    x_true[: subset_trials * T], label=\"True x\", color=\"black\", linestyle=\"dashed\"\n",
    ")\n",
    "ax[\"latent\"].plot(\n",
    "    x_est_flip[0, : subset_trials * T], label=\"Inferred x\", color=\"green\", alpha=0.7\n",
    ")\n",
    "for b in trial_boundaries:\n",
    "    ax[\"latent\"].axvline(x=b, color=\"gray\", linestyle=\":\", linewidth=0.5)\n",
    "ax[\"latent\"].set_title(\"Latent State x (first 10 trials\")\n",
    "ax[\"latent\"].set_xlabel(\"Time bin\")\n",
    "ax[\"latent\"].set_ylabel(\"Latent value\")\n",
    "ax[\"latent\"].legend()\n",
    "\n",
    "fig.tight_layout(rect=[0, 0, 0.85, 1])\n",
    "plt.show()"
   ]
  },
  {
   "cell_type": "markdown",
   "metadata": {},
   "source": [
    "## Task 2: Fit GPFA model to real data. \n",
    "\n",
    "We now fit the model to real data and cross-validate over the dimensionality of the latent variable.\n",
    "\n",
    "*Grading: 4 pts*\n",
    "\n"
   ]
  },
  {
   "cell_type": "markdown",
   "metadata": {},
   "source": [
    "### Load data\n",
    "\n",
    "The cell below implements loading the data and encapsulates it into a class that matches the interface of the Poisson GPFA engine. You don't need to do anything here."
   ]
  },
  {
   "cell_type": "code",
   "execution_count": 19,
   "metadata": {},
   "outputs": [],
   "source": [
    "class EckerDataset:\n",
    "    \"\"\"Loosy class\"\"\"\n",
    "\n",
    "    def __init__(\n",
    "        self,\n",
    "        path: str,\n",
    "        subject_id: int = 0,\n",
    "        ydim: int = 55,\n",
    "        trialDur: int = 2000,\n",
    "        binSize: int = 100,\n",
    "        numTrials: int = 100,\n",
    "        ydimData: bool = False,\n",
    "        numTrData: bool = True,\n",
    "    ):\n",
    "        # T = binSize #int(trialDur/binSize)\n",
    "        T = int(trialDur / binSize)\n",
    "        matdat = sio.loadmat(path)\n",
    "        self.matdat = matdat\n",
    "        data = []\n",
    "        trial_durs = []\n",
    "        for trial_id in range(numTrials):\n",
    "            trial_time = matdat[\"spikeTimes\"][:, trial_id][0]\n",
    "            trial_big_time = np.min(trial_time)\n",
    "            trial_end_time = np.max(trial_time)\n",
    "            trial_durs.append(trial_end_time - trial_big_time)\n",
    "        for trial_id in range(numTrials):\n",
    "            Y = []\n",
    "            spike_time = []\n",
    "            data.append(\n",
    "                {\n",
    "                    \"Y\": matdat[\"spikeCounts\"][:, :, trial_id],\n",
    "                    \"spike_time\": matdat[\"spikeTimes\"][:, trial_id],\n",
    "                }\n",
    "            )\n",
    "        self.T = T\n",
    "        self.trial_durs = trial_durs\n",
    "        self.data = data\n",
    "        self.trialDur = trialDur\n",
    "        self.binSize = binSize\n",
    "        self.numTrials = numTrials\n",
    "        self.ydim = ydim\n",
    "        util.dataset.getMeanAndVariance(self)\n",
    "        util.dataset.getAvgFiringRate(self)\n",
    "        util.dataset.getAllRaster(self)"
   ]
  },
  {
   "cell_type": "code",
   "execution_count": 20,
   "metadata": {},
   "outputs": [],
   "source": [
    "path = \"../data/nds_cl_6_data.mat\"\n",
    "data = EckerDataset(path)"
   ]
  },
  {
   "cell_type": "markdown",
   "metadata": {},
   "source": [
    "### Fit Poisson GPFA models and perform model comparison\n",
    "\n",
    "Split the data into 80 trials used for training and 20 trials held out for performing model comparison. On the training set, fit models using one to five latent variables. Compute the performance of each model on the held-out test set.\n",
    "\n",
    "Hint: You can use the `crossValidation` function in the Poisson GPFA package.\n",
    "\n",
    "Optional: The `crossValidation` function computes the sum of the squared errors (SSE) on the test set, which is not ideal. The predictive log-likelihood under the Poisson model would be a better measure, which you are welcome to compute instead."
   ]
  },
  {
   "cell_type": "code",
   "execution_count": 22,
   "metadata": {},
   "outputs": [
    {
     "data": {
      "text/plain": [
       "\u001b[1;31mInit signature:\u001b[0m\n",
       "\u001b[0mutil\u001b[0m\u001b[1;33m.\u001b[0m\u001b[0mcrossValidation\u001b[0m\u001b[1;33m(\u001b[0m\u001b[1;33m\n",
       "\u001b[0m    \u001b[0mexperiment\u001b[0m\u001b[1;33m,\u001b[0m\u001b[1;33m\n",
       "\u001b[0m    \u001b[0mnumTrainingTrials\u001b[0m\u001b[1;33m=\u001b[0m\u001b[1;36m10\u001b[0m\u001b[1;33m,\u001b[0m\u001b[1;33m\n",
       "\u001b[0m    \u001b[0mnumTestTrials\u001b[0m\u001b[1;33m=\u001b[0m\u001b[1;36m2\u001b[0m\u001b[1;33m,\u001b[0m\u001b[1;33m\n",
       "\u001b[0m    \u001b[0mmaxXdim\u001b[0m\u001b[1;33m=\u001b[0m\u001b[1;36m6\u001b[0m\u001b[1;33m,\u001b[0m\u001b[1;33m\n",
       "\u001b[0m    \u001b[0mmaxEMiter\u001b[0m\u001b[1;33m=\u001b[0m\u001b[1;36m3\u001b[0m\u001b[1;33m,\u001b[0m\u001b[1;33m\n",
       "\u001b[0m    \u001b[0mbatchSize\u001b[0m\u001b[1;33m=\u001b[0m\u001b[1;36m5\u001b[0m\u001b[1;33m,\u001b[0m\u001b[1;33m\n",
       "\u001b[0m    \u001b[0minferenceMethod\u001b[0m\u001b[1;33m=\u001b[0m\u001b[1;34m'laplace'\u001b[0m\u001b[1;33m,\u001b[0m\u001b[1;33m\n",
       "\u001b[0m    \u001b[0mlearningMethod\u001b[0m\u001b[1;33m=\u001b[0m\u001b[1;34m'batch'\u001b[0m\u001b[1;33m,\u001b[0m\u001b[1;33m\n",
       "\u001b[0m\u001b[1;33m)\u001b[0m\u001b[1;33m\u001b[0m\u001b[1;33m\u001b[0m\u001b[0m\n",
       "\u001b[1;31mDocstring:\u001b[0m      <no docstring>\n",
       "\u001b[1;31mFile:\u001b[0m           c:\\users\\user\\documents\\master\\4_semester\\neural_data_processing\\nds_env\\poisson-gpfa\\funs\\util.py\n",
       "\u001b[1;31mType:\u001b[0m           type\n",
       "\u001b[1;31mSubclasses:\u001b[0m     "
      ]
     },
     "metadata": {},
     "output_type": "display_data"
    }
   ],
   "source": [
    "?util.crossValidation"
   ]
  },
  {
   "cell_type": "markdown",
   "metadata": {},
   "source": [
    "### Derivation for log-likelihood\n",
    "\n",
    "_You can add your calculations in_ $\\LaTeX$ _here_.\n",
    "\n",
    "$p_\\lambda(x_t) = \\ldots$\n",
    "\n",
    "$L(\\lambda_k; x_1, ..., x_N) = \\ldots$ \n",
    "\n",
    "$log(L) = l(\\lambda_k; x_1, ..., x_N) = \\ldots$"
   ]
  },
  {
   "cell_type": "code",
   "execution_count": 28,
   "metadata": {
    "scrolled": true
   },
   "outputs": [
    {
     "name": "stdout",
     "output_type": "stream",
     "text": [
      "Assessing optimal latent dimensionality will take a long time.\n",
      "Initializing parameters with Poisson-PCA..\n",
      "+-------------------- Fit Options --------------------+\n",
      "\n",
      "\n",
      "\n",
      "\n",
      "\n",
      "+-----------------------------------------------------+\n",
      "\u001b[KIteration:   3 of   3, nPLL: = -409.0843Performing leave-one-out cross validation...\n",
      "Initializing parameters with Poisson-PCA..\n",
      "+-------------------- Fit Options --------------------+\n",
      "\n",
      "\n",
      "\n",
      "\n",
      "\n",
      "+-----------------------------------------------------+\n",
      "\u001b[KIteration:   3 of   3, nPLL: = -388.1007Performing leave-one-out cross validation...\n",
      "Initializing parameters with Poisson-PCA..\n",
      "+-------------------- Fit Options --------------------+\n",
      "\n",
      "\n",
      "\n",
      "\n",
      "\n",
      "+-----------------------------------------------------+\n",
      "\u001b[KIteration:   3 of   3, nPLL: = -365.4980Performing leave-one-out cross validation...\n",
      "Initializing parameters with Poisson-PCA..\n",
      "+-------------------- Fit Options --------------------+\n",
      "\n",
      "\n",
      "\n",
      "\n",
      "\n",
      "+-----------------------------------------------------+\n",
      "\u001b[KIteration:   3 of   3, nPLL: = -361.8385Performing leave-one-out cross validation...\n",
      "Initializing parameters with Poisson-PCA..\n",
      "+-------------------- Fit Options --------------------+\n",
      "\n",
      "\n",
      "\n",
      "\n",
      "\n",
      "+-----------------------------------------------------+\n",
      "\u001b[KIteration:   3 of   3, nPLL: = -349.6037Performing leave-one-out cross validation...\n"
     ]
    }
   ],
   "source": [
    "# ------------------------------\n",
    "# Perfom cross validation (1 pt)\n",
    "# ------------------------------\n",
    "\n",
    "# do the actual cross validation\n",
    "xval = util.crossValidation(\n",
    "    experiment=data, numTrainingTrials=80, numTestTrials=20, maxXdim=5\n",
    ")"
   ]
  },
  {
   "cell_type": "code",
   "execution_count": 35,
   "metadata": {},
   "outputs": [
    {
     "name": "stdout",
     "output_type": "stream",
     "text": [
      "4\n"
     ]
    }
   ],
   "source": [
    "print(xval.optimXdim)"
   ]
  },
  {
   "cell_type": "markdown",
   "metadata": {},
   "source": [
    "### Plot the test error\n",
    "\n",
    "Make a plot of the test error for the five different models. As a baseline, please also include the test error of a model without a latent variable. This is essentially the SSE of a constant rate model (or Poisson likelihood if you did the optional part above). Note: We assume a constant firing rate across trials, but not necessarily across time."
   ]
  },
  {
   "cell_type": "code",
   "execution_count": 32,
   "metadata": {},
   "outputs": [],
   "source": [
    "# --------------------------------------------------------------------------------\n",
    "# Compute and plot the test errors for the different latent variable models (1 pt)\n",
    "# --------------------------------------------------------------------------------\n",
    "\n",
    "train_set, test_set = util.splitTrainingTestDataset(\n",
    "    data, numTrainingTrials=80, numTestTrials=20\n",
    ")\n",
    "# compute baseline error\n",
    "\n",
    "\n",
    "def fit_baseline_model(training_set):\n",
    "    \"\"\"\n",
    "    Compute constant log firing rates (d) per neuron using training data.\n",
    "    \"\"\"\n",
    "    ydim = training_set.ydim\n",
    "    num_trials = training_set.numTrials\n",
    "    T = training_set.T\n",
    "\n",
    "    d = np.zeros(ydim)\n",
    "    for nrn in range(ydim):\n",
    "        rates = []\n",
    "        for tr in range(num_trials):\n",
    "            y = training_set.data[tr][\"Y\"][nrn]  # shape: (T,)\n",
    "            rates.extend(y)\n",
    "        mean_rate = np.mean(rates)\n",
    "        d[nrn] = np.log(mean_rate + 1e-8)  # Avoid log(0)\n",
    "    return {\"d\": d}\n",
    "\n",
    "\n",
    "def eval_baseline_model(params, test_set):\n",
    "    \"\"\"\n",
    "    Predict firing rates from the baseline model and compute squared error.\n",
    "    \"\"\"\n",
    "    d = params[\"d\"]  # log-rates\n",
    "    ydim = test_set.ydim\n",
    "    num_trials = test_set.numTrials\n",
    "    T = test_set.T\n",
    "\n",
    "    error = 0\n",
    "    for tr in range(num_trials):\n",
    "        for nrn in range(ydim):\n",
    "            rate = np.exp(d[nrn])\n",
    "            y_true = test_set.data[tr][\"Y\"][nrn]  # shape: (T,)\n",
    "            y_pred = np.full_like(y_true, rate)\n",
    "            error += np.sum((y_true - y_pred) ** 2)\n",
    "    return error\n",
    "\n",
    "\n",
    "baseline_params = fit_baseline_model(train_set)\n",
    "baseline_error = eval_baseline_model(baseline_params, test_set)\n",
    "print(baseline_error)"
   ]
  },
  {
   "cell_type": "code",
   "execution_count": 46,
   "metadata": {
    "scrolled": true
   },
   "outputs": [
    {
     "name": "stderr",
     "output_type": "stream",
     "text": [
      "C:\\Users\\User\\AppData\\Local\\Temp\\ipykernel_5008\\143778192.py:26: UserWarning: The figure layout has changed to tight\n",
      "  plt.tight_layout(rect=[0, 0, 0.85, 1])  # Leave space on right for legend\n"
     ]
    },
    {
     "data": {
      "image/png": "[encoded data removed]",
      "text/plain": [
       "<Figure size 800x400 with 1 Axes>"
      ]
     },
     "metadata": {},
     "output_type": "display_data"
    }
   ],
   "source": [
    "# -------------------------------------------------------------------------\n",
    "# Compute and plot the test errors for the different latent variable models\n",
    "# and answer the questions below (1+1 pts)\n",
    "# -------------------------------------------------------------------------\n",
    "\n",
    "# Your plot here\n",
    "%matplotlib inline\n",
    "fig, ax = plt.subplots(figsize=(8, 4))\n",
    "\n",
    "# Plot model errors\n",
    "ax.plot(\n",
    "    np.arange(1, xval.maxXdim + 1), xval.errs, \"o-\", color=\"blue\", label=\"Poisson-GPFA\"\n",
    ")\n",
    "\n",
    "# Plot baseline error\n",
    "ax.axhline(\n",
    "    baseline_error, linestyle=\"--\", color=\"red\", label=\"Baseline error (0 Latent)\"\n",
    ")\n",
    "\n",
    "# Labeling\n",
    "ax.set_xlabel(\"Latent Dimensionality\")\n",
    "ax.set_ylabel(\"Prediction Error (SSE)\")\n",
    "ax.set_title(\"Model Comparison\")\n",
    "\n",
    "ax.legend(loc=\"center left\", bbox_to_anchor=(1.02, 0.5), borderaxespad=0, frameon=True)\n",
    "\n",
    "ax.grid(True, which=\"both\", linestyle=\":\", linewidth=0.5)\n",
    "plt.tight_layout(rect=[0, 0, 0.85, 1])  # Leave space on right for legend\n",
    "plt.show()"
   ]
  },
  {
   "cell_type": "markdown",
   "metadata": {},
   "source": [
    "### Questions\n",
    "\n",
    "**Is the baseline error (0 latents) about what you expect in relation to the other models? Why or why not?**\n",
    "\n",
    "- The baseline error fits our expectation as it is significantly higher then all the latent state models. This shows that the Neurons are probably not firing independently from each other but that there is some shared activity that is explained through the latent states. \n",
    "\n",
    "\n",
    "**Can you identify a \"best model\". If so, which is it and what does this say about the structure of the latent state?**\n",
    "\n",
    "- The model with 4 latent variables has the lowest prediction error. One could think about calculating a AIC or a BIC to penalize the more complex models and to check wether the better prediction error is just due to a model maybe overfitting or just beeing more complex. We also have to keep in mind that we are not running the fit to convergence but just for 3 EM iterations which is quite low. However here we assume that the drop in the prediction error is significant enough to take the model with 4 latent variables as the \"best model\". This would mean that we assume that the firing of the neuron population is driven by four different underlying factors. Thus, the Neurons dont fire randomly but in response to these factors, which could be different sensory processes, common inputs, stimulus responses or something else entirely."
   ]
  },
  {
   "cell_type": "markdown",
   "metadata": {},
   "source": [
    "## Task 3. Visualization: population rasters and latent state.\n",
    "Use the model with a single latent state. \n",
    "\n",
    "Create a raster plot where you show for each trial the spikes of all neurons as well as the trajectory of the latent state `x` (take care of the correct time axis). Sort the neurons by their weights `c_k`. Plot only the first 20 trials.\n",
    "\n",
    "*Grading: 2 pts*"
   ]
  },
  {
   "cell_type": "code",
   "execution_count": null,
   "metadata": {},
   "outputs": [],
   "source": [
    "from numpy import matlib\n",
    "\n",
    "# Your plot here\n",
    "fig, axs = plt.subplots(10, 2, figsize=(14, 14))\n",
    "\n",
    "ts = np.linspace(0, 2000, 100)\n",
    "xa = 0.15\n",
    "xs = 0.7 * xa * np.sin(ts / 1000 * 3.4 * 2 * np.pi) + xa\n",
    "\n",
    "with sns.axes_style(\"ticks\"):\n",
    "    for ntrial, ax in enumerate(axs.flat):\n",
    "        x = range(50, 2000, 100)  # assume binsize of 100ms\n",
    "\n",
    "        # --------------------------------------------------------\n",
    "        # plot the raster for each neuron and latent state (2 pts)\n",
    "        # --------------------------------------------------------\n",
    "\n",
    "        # hint: can be plotted on top of the corresponding raster\n",
    "        \n",
    "        # sort neurons by weight\n",
    "\n",
    "        if ntrial == 0:\n",
    "            ax.legend()\n",
    "        if ntrial == 1:\n",
    "            ax.plot([1000, 2000], [-30, -30], color=\"green\")\n",
    "            ax.text(1300, -50, \"1sec\")\n",
    "        if ntrial < 2:\n",
    "            ax.plot(ts, (xs * 40) + data.ydim, \"k\", color=\"black\")\n",
    "\n",
    "        ax.set_yticks([])\n",
    "        ax.set_xticks([])"
   ]
  },
  {
   "cell_type": "markdown",
   "metadata": {},
   "source": [
    "## Task 4. Visualization of covariance matrix.\n",
    "\n",
    "Plot (a) the covariance matrix of the observed data as well as its approximation using (b) one and (c) five latent variable(s). Use the analytical solution for the covariance matrix of the approximation*. Note that the solution is essentially the mean and covariance of the [log-normal distribution](https://en.wikipedia.org/wiki/Log-normal_distribution).\n",
    "\n",
    "$ \\mu = \\exp(\\frac{1}{2} \\text{ diag}(CC^T)+d)$\n",
    "\n",
    "$ \\text{Cov}= \\mu\\otimes\\mu^T \\odot \\exp(CC^T)+\\mu\\cdot \\mathbb{I} - \\mu\\otimes\\mu^T$ \n",
    "\n",
    "*[Krumin, M., and Shoham, S. (2009). Generation of Spike Trains with Controlled Auto- and Cross-Correlation Functions. Neural Computation 21, 1642–1664](http://www.mitpressjournals.org/doi/10.1162/neco.2009.08-08-847).\n",
    "\n",
    "*Grading: 3 pts*"
   ]
  },
  {
   "cell_type": "code",
   "execution_count": null,
   "metadata": {},
   "outputs": [],
   "source": [
    "# --------------------------------------------------------------\n",
    "# Complete the analytical solution for the covariance matrix of\n",
    "# the approximation using the provide equations (2 pts)\n",
    "# --------------------------------------------------------------\n",
    "\n",
    "\n",
    "def cov(fit: engine.PPGPFAfit) -> np.ndarray:\n",
    "    \n",
    "    return c, mu\n",
    "\n",
    "\n",
    "# --------------------------------------------------------------\n",
    "# Plot the covariance matrix of\n",
    "# (1) the observed data\n",
    "# (2) its approximation using 1 latent variable\n",
    "# (3) its approximation using 5 latent variable\n",
    "# and explain how they compare (1+1 pts).\n",
    "# --------------------------------------------------------------\n",
    "\n",
    "obs_corr = np.cov(data.all_raster)\n",
    "opt_r1, mu1 = cov(xval.fits[0])\n",
    "opt_r5, mu5 = cov(xval.fits[4])\n",
    "\n",
    "# HINT: Think about which type of colormap and ranges are appropriate here. \n",
    "\n",
    "fig, axs = plt.subplots(1, 3, figsize=(10, 3.5))\n",
    "# add plot to visualize the differences in the covariance matrices"
   ]
  },
  {
   "cell_type": "markdown",
   "metadata": {},
   "source": [
    "### Questions\n",
    "\n",
    "What do you see / expect to see?\n",
    "\n",
    "_YOUR ANSWER GOES HERE_"
   ]
  }
 ],
 "metadata": {
  "kernelspec": {
   "display_name": "Python 3 (ipykernel)",
   "language": "python",
   "name": "python3"
  },
  "language_info": {
   "codemirror_mode": {
    "name": "ipython",
    "version": 3
   },
   "file_extension": ".py",
   "mimetype": "text/x-python",
   "name": "python",
   "nbconvert_exporter": "python",
   "pygments_lexer": "ipython3",
   "version": "3.10.0"
  }
 },
 "nbformat": 4,
 "nbformat_minor": 4
}
